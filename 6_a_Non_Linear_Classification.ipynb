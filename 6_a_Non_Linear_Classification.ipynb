{
  "nbformat": 4,
  "nbformat_minor": 0,
  "metadata": {
    "kernelspec": {
      "display_name": "Python 3",
      "language": "python",
      "name": "python3"
    },
    "language_info": {
      "codemirror_mode": {
        "name": "ipython",
        "version": 3
      },
      "file_extension": ".py",
      "mimetype": "text/x-python",
      "name": "python",
      "nbconvert_exporter": "python",
      "pygments_lexer": "ipython3",
      "version": "3.7.6"
    },
    "colab": {
      "name": "Copy_of_6_a_Non_Linear_Classification.ipynb",
      "provenance": [],
      "collapsed_sections": []
    },
    "accelerator": "GPU"
  },
  "cells": [
    {
      "cell_type": "markdown",
      "metadata": {
        "id": "ScwfoOt2_VJI",
        "colab_type": "text"
      },
      "source": [
        "# Block 6 Exercise 1: Non-Linear Classification"
      ]
    },
    {
      "cell_type": "markdown",
      "metadata": {
        "id": "J2zEppZX_VJJ",
        "colab_type": "text"
      },
      "source": [
        "## MNIST Data\n",
        "We return to the MNIST data set on handwritten digits to compare non-linear classification algorithms ...   "
      ]
    },
    {
      "cell_type": "code",
      "metadata": {
        "id": "jyPkW4_M_VJK",
        "colab_type": "code",
        "colab": {}
      },
      "source": [
        "#imports \n",
        "import matplotlib.pyplot as plt\n",
        "import numpy as np\n",
        "from sklearn.datasets import fetch_openml"
      ],
      "execution_count": 0,
      "outputs": []
    },
    {
      "cell_type": "code",
      "metadata": {
        "id": "Xjm3t0DZ_VJQ",
        "colab_type": "code",
        "colab": {}
      },
      "source": [
        "# Load data from https://www.openml.org/d/554\n",
        "X, y = fetch_openml('mnist_784', version=1, return_X_y=True)\n"
      ],
      "execution_count": 0,
      "outputs": []
    },
    {
      "cell_type": "code",
      "metadata": {
        "id": "q3vbwFBA_VJT",
        "colab_type": "code",
        "outputId": "29de0d79-bfd7-4eb9-f0af-dd583366b6c4",
        "colab": {
          "base_uri": "https://localhost:8080/",
          "height": 33
        }
      },
      "source": [
        "#the full MNIST data set contains 70k samples of digits 0-9 as 28*28 gray scale images (represented as 784 dim vectors)\n",
        "np.shape(X)"
      ],
      "execution_count": 4,
      "outputs": [
        {
          "output_type": "execute_result",
          "data": {
            "text/plain": [
              "(70000, 784)"
            ]
          },
          "metadata": {
            "tags": []
          },
          "execution_count": 4
        }
      ]
    },
    {
      "cell_type": "code",
      "metadata": {
        "id": "Zg1Us6g6_VJa",
        "colab_type": "code",
        "outputId": "d3b41036-5900-44e0-efad-3fb17b38e594",
        "colab": {
          "base_uri": "https://localhost:8080/",
          "height": 33
        }
      },
      "source": [
        "X.min()"
      ],
      "execution_count": 5,
      "outputs": [
        {
          "output_type": "execute_result",
          "data": {
            "text/plain": [
              "0.0"
            ]
          },
          "metadata": {
            "tags": []
          },
          "execution_count": 5
        }
      ]
    },
    {
      "cell_type": "code",
      "metadata": {
        "id": "oL2bJHp2_VJh",
        "colab_type": "code",
        "outputId": "f15b4da2-aaa8-48d9-f8aa-33f773661c35",
        "colab": {
          "base_uri": "https://localhost:8080/",
          "height": 33
        }
      },
      "source": [
        "#look at max/min value in the data\n",
        "X.max()"
      ],
      "execution_count": 6,
      "outputs": [
        {
          "output_type": "execute_result",
          "data": {
            "text/plain": [
              "255.0"
            ]
          },
          "metadata": {
            "tags": []
          },
          "execution_count": 6
        }
      ]
    },
    {
      "cell_type": "markdown",
      "metadata": {
        "id": "YxW50t9U_VJl",
        "colab_type": "text"
      },
      "source": [
        "### E1.1: Cross-Validation and Support Vector Machines\n",
        "Train and optimize  C-SVM classifier on MNIST (https://scikit-learn.org/stable/modules/generated/sklearn.svm.SVC.html#sklearn.svm.SVC)\n",
        "* use a RBF kernel\n",
        "* use *random search* with cross-validation to find the best settings for *gamma* and *C* (https://scikit-learn.org/stable/modules/generated/sklearn.model_selection.RandomizedSearchCV.html#sklearn.model_selection.RandomizedSearchCV)"
      ]
    },
    {
      "cell_type": "code",
      "metadata": {
        "id": "-gX56fAw0JZL",
        "colab_type": "code",
        "colab": {}
      },
      "source": [
        "from sklearn.pipeline import make_pipeline\n",
        "from sklearn.preprocessing import StandardScaler\n",
        "from sklearn.svm import SVC\n",
        "from sklearn.model_selection import RandomizedSearchCV\n",
        "from scipy.stats import uniform\n",
        "from sklearn.neural_network import MLPClassifier\n",
        "from sklearn.model_selection import train_test_split"
      ],
      "execution_count": 0,
      "outputs": []
    },
    {
      "cell_type": "code",
      "metadata": {
        "id": "gf6w56sugxmk",
        "colab_type": "code",
        "colab": {}
      },
      "source": [
        "X_train, X_test, y_train, y_test = train_test_split(X, y)"
      ],
      "execution_count": 0,
      "outputs": []
    },
    {
      "cell_type": "code",
      "metadata": {
        "id": "KzZ2Ny4Hf-YS",
        "colab_type": "code",
        "colab": {}
      },
      "source": [
        "svm = SVC() #rbf is default kernel\n",
        "parameters = dict(C=[0.1,1,2,5,10,100],gamma=[10,5, 1,0.1,'scale']) #create search space\n",
        "search = RandomizedSearchCV(svm, parameters, n_jobs=4,n_iter=20, cv=5,random_state=0)"
      ],
      "execution_count": 0,
      "outputs": []
    },
    {
      "cell_type": "code",
      "metadata": {
        "id": "GxMaipyp_VJl",
        "colab_type": "code",
        "outputId": "56144e02-36fc-4927-9ad3-da2060f56eb6",
        "colab": {
          "base_uri": "https://localhost:8080/",
          "height": 33
        }
      },
      "source": [
        "svmClassifier = SVC(kernel='rbf')\n",
        "distributions = dict(C=[0.1,0.5,1,2,5,10,50,100],gamma=[10,5,1,0.5,0.1, 'scale'])\n",
        "clf = RandomizedSearchCV(svmClassifier, distributions, random_state=0,n_jobs=4,n_iter=20)\n",
        "search = clf.fit(X_train[:1000,:],y_train[:1000])\n",
        "search.best_params_"
      ],
      "execution_count": 10,
      "outputs": [
        {
          "output_type": "execute_result",
          "data": {
            "text/plain": [
              "{'C': 5, 'gamma': 'scale'}"
            ]
          },
          "metadata": {
            "tags": []
          },
          "execution_count": 10
        }
      ]
    },
    {
      "cell_type": "markdown",
      "metadata": {
        "id": "wHqZoizV_VJp",
        "colab_type": "text"
      },
      "source": [
        "### E1.2: Pipelines and simple Neural Networks\n",
        "Split the MNIST data into  train- and test-sets and then train and evaluate a simple Multi Layer Perceptron (MLP) network. Since the non-linear activation functions of MLPs are sensitive to the scaling on the input (recall the *sigmoid* function), we need to scale all input values to [0,1] \n",
        "\n",
        "* combine all steps of your training in a SKL pipeline (https://scikit-learn.org/stable/modules/compose.html#pipeline)\n",
        "* use a SKL-scaler to scale the data (https://scikit-learn.org/stable/modules/generated/sklearn.preprocessing.StandardScaler.html)\n",
        "* MLP Parameters: https://scikit-learn.org/stable/modules/generated/sklearn.neural_network.MLPClassifier.html#sklearn.neural_network.MLPClassifier\n",
        "    * use a *SGD* solver\n",
        "    * use *tanh* as activation function\n",
        "    * compare networks with 1, 2 and 3 layers, use different numbers of neurons per layer\n",
        "    * adjust training parameters *alpha* (regularization) and *learning rate* - how sensitive is the model to these parameters?\n",
        "    * Hint: do not change all parameters at the same time, split into several experiments\n",
        "* How hard is it to find the best parameters? How many experiments would you need to find the best parameters?\n",
        "    \n"
      ]
    },
    {
      "cell_type": "code",
      "metadata": {
        "id": "tieJXKYf1sw1",
        "colab_type": "code",
        "colab": {}
      },
      "source": [
        "X_train, X_test, y_train, y_test = train_test_split(X, y)"
      ],
      "execution_count": 0,
      "outputs": []
    },
    {
      "cell_type": "code",
      "metadata": {
        "id": "KYt9Qri4_VJq",
        "colab_type": "code",
        "colab": {}
      },
      "source": [
        "##Standard\n",
        "mlp1 = MLPClassifier(hidden_layer_sizes=(1, ), solver='sgd', activation='tanh', alpha=0.0001, learning_rate_init=0.001, learning_rate='constant', max_iter=300)\n",
        "mlp2 = MLPClassifier(hidden_layer_sizes=(1,2, ), solver='sgd', activation='tanh', alpha=0.0001, learning_rate_init=0.001, learning_rate='constant', max_iter=300)\n",
        "mlp3 = MLPClassifier(hidden_layer_sizes=(1,2,3, ), solver='sgd', activation='tanh', alpha=0.0001, learning_rate_init=0.001, learning_rate='constant', max_iter=300)\n",
        "\n",
        "pipe1 = make_pipeline(StandardScaler(), mlp1)\n",
        "pipe2 = make_pipeline(StandardScaler(), mlp2)\n",
        "pipe3 = make_pipeline(StandardScaler(), mlp3)"
      ],
      "execution_count": 0,
      "outputs": []
    },
    {
      "cell_type": "code",
      "metadata": {
        "colab_type": "code",
        "id": "_pPyrOajTWb7",
        "colab": {
          "base_uri": "https://localhost:8080/",
          "height": 183
        },
        "outputId": "8ae8f3a4-6274-4125-faa8-500b7bab1f7d"
      },
      "source": [
        "pipe1.fit(X_train, y_train)\n",
        "print (pipe1.score(X_test, y_test))\n",
        "pipe2.fit(X_train, y_train)\n",
        "print(pipe2.score(X_test, y_test))\n",
        "pipe3.fit(X_train, y_train)\n",
        "print(pipe3.score(X_test, y_test))"
      ],
      "execution_count": 13,
      "outputs": [
        {
          "output_type": "stream",
          "text": [
            "/usr/local/lib/python3.6/dist-packages/sklearn/neural_network/_multilayer_perceptron.py:571: ConvergenceWarning: Stochastic Optimizer: Maximum iterations (300) reached and the optimization hasn't converged yet.\n",
            "  % self.max_iter, ConvergenceWarning)\n"
          ],
          "name": "stderr"
        },
        {
          "output_type": "stream",
          "text": [
            "0.40062857142857144\n"
          ],
          "name": "stdout"
        },
        {
          "output_type": "stream",
          "text": [
            "/usr/local/lib/python3.6/dist-packages/sklearn/neural_network/_multilayer_perceptron.py:571: ConvergenceWarning: Stochastic Optimizer: Maximum iterations (300) reached and the optimization hasn't converged yet.\n",
            "  % self.max_iter, ConvergenceWarning)\n"
          ],
          "name": "stderr"
        },
        {
          "output_type": "stream",
          "text": [
            "0.3356\n",
            "0.4594285714285714\n"
          ],
          "name": "stdout"
        },
        {
          "output_type": "stream",
          "text": [
            "/usr/local/lib/python3.6/dist-packages/sklearn/neural_network/_multilayer_perceptron.py:571: ConvergenceWarning: Stochastic Optimizer: Maximum iterations (300) reached and the optimization hasn't converged yet.\n",
            "  % self.max_iter, ConvergenceWarning)\n"
          ],
          "name": "stderr"
        }
      ]
    },
    {
      "cell_type": "code",
      "metadata": {
        "colab_type": "code",
        "id": "IkkGzaE3Sao3",
        "colab": {}
      },
      "source": [
        "##More Neurons\n",
        "mlp1 = MLPClassifier(hidden_layer_sizes=(10, ), solver='sgd', activation='tanh', alpha=0.0001, learning_rate_init=0.001, learning_rate='constant', max_iter=300)\n",
        "mlp2 = MLPClassifier(hidden_layer_sizes=(10,20, ), solver='sgd', activation='tanh', alpha=0.0001, learning_rate_init=0.001, learning_rate='constant', max_iter=300)\n",
        "mlp3 = MLPClassifier(hidden_layer_sizes=(10,20,30, ), solver='sgd', activation='tanh', alpha=0.0001, learning_rate_init=0.001, learning_rate='constant', max_iter=300)\n",
        "\n",
        "pipe1 = make_pipeline(StandardScaler(), mlp1)\n",
        "pipe2 = make_pipeline(StandardScaler(), mlp2)\n",
        "pipe3 = make_pipeline(StandardScaler(), mlp3)"
      ],
      "execution_count": 0,
      "outputs": []
    },
    {
      "cell_type": "code",
      "metadata": {
        "colab_type": "code",
        "id": "jtVbfaB2TWFc",
        "colab": {
          "base_uri": "https://localhost:8080/",
          "height": 183
        },
        "outputId": "7d3f6932-fe6f-4190-869b-0c7e62dc366c"
      },
      "source": [
        "pipe1.fit(X_train, y_train)\n",
        "print (pipe1.score(X_test, y_test))\n",
        "pipe2.fit(X_train, y_train)\n",
        "print(pipe2.score(X_test, y_test))\n",
        "pipe3.fit(X_train, y_train)\n",
        "print(pipe3.score(X_test, y_test))"
      ],
      "execution_count": 15,
      "outputs": [
        {
          "output_type": "stream",
          "text": [
            "/usr/local/lib/python3.6/dist-packages/sklearn/neural_network/_multilayer_perceptron.py:571: ConvergenceWarning: Stochastic Optimizer: Maximum iterations (300) reached and the optimization hasn't converged yet.\n",
            "  % self.max_iter, ConvergenceWarning)\n"
          ],
          "name": "stderr"
        },
        {
          "output_type": "stream",
          "text": [
            "0.9166285714285715\n"
          ],
          "name": "stdout"
        },
        {
          "output_type": "stream",
          "text": [
            "/usr/local/lib/python3.6/dist-packages/sklearn/neural_network/_multilayer_perceptron.py:571: ConvergenceWarning: Stochastic Optimizer: Maximum iterations (300) reached and the optimization hasn't converged yet.\n",
            "  % self.max_iter, ConvergenceWarning)\n"
          ],
          "name": "stderr"
        },
        {
          "output_type": "stream",
          "text": [
            "0.9226857142857143\n"
          ],
          "name": "stdout"
        },
        {
          "output_type": "stream",
          "text": [
            "/usr/local/lib/python3.6/dist-packages/sklearn/neural_network/_multilayer_perceptron.py:571: ConvergenceWarning: Stochastic Optimizer: Maximum iterations (300) reached and the optimization hasn't converged yet.\n",
            "  % self.max_iter, ConvergenceWarning)\n"
          ],
          "name": "stderr"
        },
        {
          "output_type": "stream",
          "text": [
            "0.9246285714285715\n"
          ],
          "name": "stdout"
        }
      ]
    },
    {
      "cell_type": "code",
      "metadata": {
        "colab_type": "code",
        "id": "dTwrpaUISa3_",
        "colab": {}
      },
      "source": [
        "##Higher Alpha\n",
        "mlp1 = MLPClassifier(hidden_layer_sizes=(10, ), solver='sgd', activation='tanh', alpha=0.01, learning_rate_init=0.001, learning_rate='constant', max_iter=300)\n",
        "mlp2 = MLPClassifier(hidden_layer_sizes=(10,20, ), solver='sgd', activation='tanh', alpha=0.01, learning_rate_init=0.001, learning_rate='constant', max_iter=300)\n",
        "mlp3 = MLPClassifier(hidden_layer_sizes=(10,20,30, ), solver='sgd', activation='tanh', alpha=0.01, learning_rate_init=0.001, learning_rate='constant', max_iter=300)\n",
        "\n",
        "pipe1 = make_pipeline(StandardScaler(), mlp1)\n",
        "pipe2 = make_pipeline(StandardScaler(), mlp2)\n",
        "pipe3 = make_pipeline(StandardScaler(), mlp3)"
      ],
      "execution_count": 0,
      "outputs": []
    },
    {
      "cell_type": "code",
      "metadata": {
        "colab_type": "code",
        "id": "fp2Wx_dKTVwL",
        "colab": {
          "base_uri": "https://localhost:8080/",
          "height": 183
        },
        "outputId": "2970dbe9-a99e-4061-e122-cabda766048f"
      },
      "source": [
        "pipe1.fit(X_train, y_train)\n",
        "print (pipe1.score(X_test, y_test))\n",
        "pipe2.fit(X_train, y_train)\n",
        "print(pipe2.score(X_test, y_test))\n",
        "pipe3.fit(X_train, y_train)\n",
        "print(pipe3.score(X_test, y_test))"
      ],
      "execution_count": 17,
      "outputs": [
        {
          "output_type": "stream",
          "text": [
            "/usr/local/lib/python3.6/dist-packages/sklearn/neural_network/_multilayer_perceptron.py:571: ConvergenceWarning: Stochastic Optimizer: Maximum iterations (300) reached and the optimization hasn't converged yet.\n",
            "  % self.max_iter, ConvergenceWarning)\n"
          ],
          "name": "stderr"
        },
        {
          "output_type": "stream",
          "text": [
            "0.9139428571428572\n"
          ],
          "name": "stdout"
        },
        {
          "output_type": "stream",
          "text": [
            "/usr/local/lib/python3.6/dist-packages/sklearn/neural_network/_multilayer_perceptron.py:571: ConvergenceWarning: Stochastic Optimizer: Maximum iterations (300) reached and the optimization hasn't converged yet.\n",
            "  % self.max_iter, ConvergenceWarning)\n"
          ],
          "name": "stderr"
        },
        {
          "output_type": "stream",
          "text": [
            "0.926\n"
          ],
          "name": "stdout"
        },
        {
          "output_type": "stream",
          "text": [
            "/usr/local/lib/python3.6/dist-packages/sklearn/neural_network/_multilayer_perceptron.py:571: ConvergenceWarning: Stochastic Optimizer: Maximum iterations (300) reached and the optimization hasn't converged yet.\n",
            "  % self.max_iter, ConvergenceWarning)\n"
          ],
          "name": "stderr"
        },
        {
          "output_type": "stream",
          "text": [
            "0.9219428571428572\n"
          ],
          "name": "stdout"
        }
      ]
    },
    {
      "cell_type": "code",
      "metadata": {
        "colab_type": "code",
        "id": "qsgQMBpBSbAe",
        "colab": {}
      },
      "source": [
        "##Lower Alpha\n",
        "mlp1 = MLPClassifier(hidden_layer_sizes=(10, ), solver='sgd', activation='tanh', alpha=0.00001, learning_rate_init=0.001, learning_rate='constant', max_iter=300)\n",
        "mlp2 = MLPClassifier(hidden_layer_sizes=(10,20, ), solver='sgd', activation='tanh', alpha=0.00001, learning_rate_init=0.001, learning_rate='constant', max_iter=300)\n",
        "mlp3 = MLPClassifier(hidden_layer_sizes=(10,20,30, ), solver='sgd', activation='tanh', alpha=0.00001, learning_rate_init=0.001, learning_rate='constant', max_iter=300)\n",
        "\n",
        "pipe1 = make_pipeline(StandardScaler(), mlp1)\n",
        "pipe2 = make_pipeline(StandardScaler(), mlp2)\n",
        "pipe3 = make_pipeline(StandardScaler(), mlp3)"
      ],
      "execution_count": 0,
      "outputs": []
    },
    {
      "cell_type": "code",
      "metadata": {
        "colab_type": "code",
        "id": "wBtKgg3aTVbs",
        "colab": {
          "base_uri": "https://localhost:8080/",
          "height": 183
        },
        "outputId": "447fedff-3fbd-4c17-8aa5-f39cccf34d86"
      },
      "source": [
        "pipe1.fit(X_train, y_train)\n",
        "print (pipe1.score(X_test, y_test))\n",
        "pipe2.fit(X_train, y_train)\n",
        "print(pipe2.score(X_test, y_test))\n",
        "pipe3.fit(X_train, y_train)\n",
        "print(pipe3.score(X_test, y_test))"
      ],
      "execution_count": 19,
      "outputs": [
        {
          "output_type": "stream",
          "text": [
            "/usr/local/lib/python3.6/dist-packages/sklearn/neural_network/_multilayer_perceptron.py:571: ConvergenceWarning: Stochastic Optimizer: Maximum iterations (300) reached and the optimization hasn't converged yet.\n",
            "  % self.max_iter, ConvergenceWarning)\n"
          ],
          "name": "stderr"
        },
        {
          "output_type": "stream",
          "text": [
            "0.9177714285714286\n"
          ],
          "name": "stdout"
        },
        {
          "output_type": "stream",
          "text": [
            "/usr/local/lib/python3.6/dist-packages/sklearn/neural_network/_multilayer_perceptron.py:571: ConvergenceWarning: Stochastic Optimizer: Maximum iterations (300) reached and the optimization hasn't converged yet.\n",
            "  % self.max_iter, ConvergenceWarning)\n"
          ],
          "name": "stderr"
        },
        {
          "output_type": "stream",
          "text": [
            "0.9220571428571429\n"
          ],
          "name": "stdout"
        },
        {
          "output_type": "stream",
          "text": [
            "/usr/local/lib/python3.6/dist-packages/sklearn/neural_network/_multilayer_perceptron.py:571: ConvergenceWarning: Stochastic Optimizer: Maximum iterations (300) reached and the optimization hasn't converged yet.\n",
            "  % self.max_iter, ConvergenceWarning)\n"
          ],
          "name": "stderr"
        },
        {
          "output_type": "stream",
          "text": [
            "0.9210857142857143\n"
          ],
          "name": "stdout"
        }
      ]
    },
    {
      "cell_type": "code",
      "metadata": {
        "colab_type": "code",
        "id": "FXH0g5y_SbH1",
        "colab": {}
      },
      "source": [
        "##Higher Learning Rate\n",
        "mlp1 = MLPClassifier(hidden_layer_sizes=(10, ), solver='sgd', activation='tanh', alpha=0.0001, learning_rate_init=0.1, learning_rate='constant', max_iter=300)\n",
        "mlp2 = MLPClassifier(hidden_layer_sizes=(10,20, ), solver='sgd', activation='tanh', alpha=0.0001, learning_rate_init=0.1, learning_rate='constant', max_iter=300)\n",
        "mlp3 = MLPClassifier(hidden_layer_sizes=(10,20,30, ), solver='sgd', activation='tanh', alpha=0.0001, learning_rate_init=0.1, learning_rate='constant', max_iter=300)\n",
        "\n",
        "pipe1 = make_pipeline(StandardScaler(), mlp1)\n",
        "pipe2 = make_pipeline(StandardScaler(), mlp2)\n",
        "pipe3 = make_pipeline(StandardScaler(), mlp3)"
      ],
      "execution_count": 0,
      "outputs": []
    },
    {
      "cell_type": "code",
      "metadata": {
        "colab_type": "code",
        "id": "C_OZxO9vTSht",
        "colab": {
          "base_uri": "https://localhost:8080/",
          "height": 66
        },
        "outputId": "3cc98ee2-407e-47af-cc48-64c5a1084335"
      },
      "source": [
        "pipe1.fit(X_train, y_train)\n",
        "print (pipe1.score(X_test, y_test))\n",
        "pipe2.fit(X_train, y_train)\n",
        "print(pipe2.score(X_test, y_test))\n",
        "pipe3.fit(X_train, y_train)\n",
        "print(pipe3.score(X_test, y_test))"
      ],
      "execution_count": 21,
      "outputs": [
        {
          "output_type": "stream",
          "text": [
            "0.8976571428571428\n",
            "0.9096\n",
            "0.9134285714285715\n"
          ],
          "name": "stdout"
        }
      ]
    },
    {
      "cell_type": "code",
      "metadata": {
        "colab_type": "code",
        "id": "ukDFtB0aSkX2",
        "colab": {}
      },
      "source": [
        "##Lower Learning Rate\n",
        "mlp1 = MLPClassifier(hidden_layer_sizes=(10, ), solver='sgd', activation='tanh', alpha=0.0001, learning_rate_init=0.0001, learning_rate='constant', max_iter=300)\n",
        "mlp2 = MLPClassifier(hidden_layer_sizes=(10,20, ), solver='sgd', activation='tanh', alpha=0.0001, learning_rate_init=0.0001, learning_rate='constant', max_iter=300)\n",
        "mlp3 = MLPClassifier(hidden_layer_sizes=(10,20,30, ), solver='sgd', activation='tanh', alpha=0.0001, learning_rate_init=0.0001, learning_rate='constant', max_iter=300)\n",
        "\n",
        "pipe1 = make_pipeline(StandardScaler(), mlp1)\n",
        "pipe2 = make_pipeline(StandardScaler(), mlp2)\n",
        "pipe3 = make_pipeline(StandardScaler(), mlp3)"
      ],
      "execution_count": 0,
      "outputs": []
    },
    {
      "cell_type": "code",
      "metadata": {
        "id": "yMsY2qBsgevY",
        "colab_type": "code",
        "colab": {
          "base_uri": "https://localhost:8080/",
          "height": 183
        },
        "outputId": "60a9840f-773b-4bcb-93d9-e88bcc1355b6"
      },
      "source": [
        "pipe1.fit(X_train, y_train)\n",
        "print (pipe1.score(X_test, y_test))\n",
        "pipe2.fit(X_train, y_train)\n",
        "print(pipe2.score(X_test, y_test))\n",
        "pipe3.fit(X_train, y_train)\n",
        "print(pipe3.score(X_test, y_test))"
      ],
      "execution_count": 23,
      "outputs": [
        {
          "output_type": "stream",
          "text": [
            "/usr/local/lib/python3.6/dist-packages/sklearn/neural_network/_multilayer_perceptron.py:571: ConvergenceWarning: Stochastic Optimizer: Maximum iterations (300) reached and the optimization hasn't converged yet.\n",
            "  % self.max_iter, ConvergenceWarning)\n"
          ],
          "name": "stderr"
        },
        {
          "output_type": "stream",
          "text": [
            "0.9097142857142857\n"
          ],
          "name": "stdout"
        },
        {
          "output_type": "stream",
          "text": [
            "/usr/local/lib/python3.6/dist-packages/sklearn/neural_network/_multilayer_perceptron.py:571: ConvergenceWarning: Stochastic Optimizer: Maximum iterations (300) reached and the optimization hasn't converged yet.\n",
            "  % self.max_iter, ConvergenceWarning)\n"
          ],
          "name": "stderr"
        },
        {
          "output_type": "stream",
          "text": [
            "0.9171428571428571\n"
          ],
          "name": "stdout"
        },
        {
          "output_type": "stream",
          "text": [
            "/usr/local/lib/python3.6/dist-packages/sklearn/neural_network/_multilayer_perceptron.py:571: ConvergenceWarning: Stochastic Optimizer: Maximum iterations (300) reached and the optimization hasn't converged yet.\n",
            "  % self.max_iter, ConvergenceWarning)\n"
          ],
          "name": "stderr"
        },
        {
          "output_type": "stream",
          "text": [
            "0.9138285714285714\n"
          ],
          "name": "stdout"
        }
      ]
    }
  ]
}