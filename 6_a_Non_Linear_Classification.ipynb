{
  "nbformat": 4,
  "nbformat_minor": 0,
  "metadata": {
    "kernelspec": {
      "display_name": "Python 3",
      "language": "python",
      "name": "python3"
    },
    "language_info": {
      "codemirror_mode": {
        "name": "ipython",
        "version": 3
      },
      "file_extension": ".py",
      "mimetype": "text/x-python",
      "name": "python",
      "nbconvert_exporter": "python",
      "pygments_lexer": "ipython3",
      "version": "3.7.6"
    },
    "colab": {
      "name": "Copy of 6_a_Non-Linear_Classification.ipynb",
      "provenance": [],
      "collapsed_sections": []
    }
  },
  "cells": [
    {
      "cell_type": "markdown",
      "metadata": {
        "id": "ScwfoOt2_VJI",
        "colab_type": "text"
      },
      "source": [
        "# Block 6 Exercise 1: Non-Linear Classification"
      ]
    },
    {
      "cell_type": "markdown",
      "metadata": {
        "id": "J2zEppZX_VJJ",
        "colab_type": "text"
      },
      "source": [
        "## MNIST Data\n",
        "We return to the MNIST data set on handwritten digits to compare non-linear classification algorithms ...   "
      ]
    },
    {
      "cell_type": "code",
      "metadata": {
        "id": "jyPkW4_M_VJK",
        "colab_type": "code",
        "colab": {}
      },
      "source": [
        "#imports \n",
        "import matplotlib.pyplot as plt\n",
        "import numpy as np\n",
        "from sklearn.datasets import fetch_openml"
      ],
      "execution_count": 0,
      "outputs": []
    },
    {
      "cell_type": "code",
      "metadata": {
        "id": "Xjm3t0DZ_VJQ",
        "colab_type": "code",
        "colab": {}
      },
      "source": [
        "# Load data from https://www.openml.org/d/554\n",
        "X, y = fetch_openml('mnist_784', version=1, return_X_y=True)\n"
      ],
      "execution_count": 0,
      "outputs": []
    },
    {
      "cell_type": "code",
      "metadata": {
        "id": "q3vbwFBA_VJT",
        "colab_type": "code",
        "outputId": "89ca07c8-c539-42af-c44f-a2711c6e4205",
        "colab": {
          "base_uri": "https://localhost:8080/",
          "height": 33
        }
      },
      "source": [
        "#the full MNIST data set contains 70k samples of digits 0-9 as 28*28 gray scale images (represented as 784 dim vectors)\n",
        "np.shape(X)"
      ],
      "execution_count": 0,
      "outputs": [
        {
          "output_type": "execute_result",
          "data": {
            "text/plain": [
              "(70000, 784)"
            ]
          },
          "metadata": {
            "tags": []
          },
          "execution_count": 3
        }
      ]
    },
    {
      "cell_type": "code",
      "metadata": {
        "id": "Zg1Us6g6_VJa",
        "colab_type": "code",
        "outputId": "0b1a3cbe-6402-4ed4-ac60-5135eba1398b",
        "colab": {
          "base_uri": "https://localhost:8080/",
          "height": 33
        }
      },
      "source": [
        "X.min()"
      ],
      "execution_count": 0,
      "outputs": [
        {
          "output_type": "execute_result",
          "data": {
            "text/plain": [
              "0.0"
            ]
          },
          "metadata": {
            "tags": []
          },
          "execution_count": 4
        }
      ]
    },
    {
      "cell_type": "code",
      "metadata": {
        "id": "oL2bJHp2_VJh",
        "colab_type": "code",
        "outputId": "9cccb7a5-8a7f-4acd-ddbe-c20f1b6601df",
        "colab": {
          "base_uri": "https://localhost:8080/",
          "height": 33
        }
      },
      "source": [
        "#look at max/min value in the data\n",
        "X.max()"
      ],
      "execution_count": 0,
      "outputs": [
        {
          "output_type": "execute_result",
          "data": {
            "text/plain": [
              "255.0"
            ]
          },
          "metadata": {
            "tags": []
          },
          "execution_count": 5
        }
      ]
    },
    {
      "cell_type": "markdown",
      "metadata": {
        "id": "YxW50t9U_VJl",
        "colab_type": "text"
      },
      "source": [
        "### E1.1: Cross-Validation and Support Vector Machines\n",
        "Train and optimize  C-SVM classifier on MNIST (https://scikit-learn.org/stable/modules/generated/sklearn.svm.SVC.html#sklearn.svm.SVC)\n",
        "* use a RBF kernel\n",
        "* use *random search* with cross-validation to find the best settings for *gamma* and *C* (https://scikit-learn.org/stable/modules/generated/sklearn.model_selection.RandomizedSearchCV.html#sklearn.model_selection.RandomizedSearchCV)"
      ]
    },
    {
      "cell_type": "code",
      "metadata": {
        "id": "-gX56fAw0JZL",
        "colab_type": "code",
        "colab": {}
      },
      "source": [
        "from sklearn.pipeline import make_pipeline\n",
        "from sklearn.preprocessing import StandardScaler\n",
        "from sklearn.svm import SVC\n",
        "from sklearn.model_selection import RandomizedSearchCV\n",
        "from scipy.stats import uniform\n",
        "from sklearn.neural_network import MLPClassifier\n",
        "from sklearn.model_selection import train_test_split"
      ],
      "execution_count": 0,
      "outputs": []
    },
    {
      "cell_type": "code",
      "metadata": {
        "id": "GxMaipyp_VJl",
        "colab_type": "code",
        "colab": {}
      },
      "source": [
        "svmClassifier = SVC(kernel='rbf')\n",
        "distributions = dict(C=uniform(loc=0, scale=4),gamma=uniform(loc=0, scale=4))\n",
        "clf = RandomizedSearchCV(svmClassifier, distributions, random_state=0,n_jobs)\n",
        "search = clf.fit(X,y)\n",
        "search.best_params_"
      ],
      "execution_count": 0,
      "outputs": []
    },
    {
      "cell_type": "markdown",
      "metadata": {
        "id": "wHqZoizV_VJp",
        "colab_type": "text"
      },
      "source": [
        "### E1.2: Pipelines and simple Neural Networks\n",
        "Split the MNIST data into  train- and test-sets and then train and evaluate a simple Multi Layer Perceptron (MLP) network. Since the non-linear activation functions of MLPs are sensitive to the scaling on the input (recall the *sigmoid* function), we need to scale all input values to [0,1] \n",
        "\n",
        "* combine all steps of your training in a SKL pipeline (https://scikit-learn.org/stable/modules/compose.html#pipeline)\n",
        "* use a SKL-scaler to scale the data (https://scikit-learn.org/stable/modules/generated/sklearn.preprocessing.StandardScaler.html)\n",
        "* MLP Parameters: https://scikit-learn.org/stable/modules/generated/sklearn.neural_network.MLPClassifier.html#sklearn.neural_network.MLPClassifier\n",
        "    * use a *SGD* solver\n",
        "    * use *tanh* as activation function\n",
        "    * compare networks with 1, 2 and 3 layers, use different numbers of neurons per layer\n",
        "    * adjust training parameters *alpha* (regularization) and *learning rate* - how sensitive is the model to these parameters?\n",
        "    * Hint: do not change all parameters at the same time, split into several experiments\n",
        "* How hard is it to find the best parameters? How many experiments would you need to find the best parameters?\n",
        "    \n"
      ]
    },
    {
      "cell_type": "code",
      "metadata": {
        "id": "tieJXKYf1sw1",
        "colab_type": "code",
        "colab": {}
      },
      "source": [
        "X_train, X_test, y_train, y_test = train_test_split(X, y)"
      ],
      "execution_count": 0,
      "outputs": []
    },
    {
      "cell_type": "code",
      "metadata": {
        "id": "KYt9Qri4_VJq",
        "colab_type": "code",
        "colab": {}
      },
      "source": [
        "##Standard\n",
        "mlp1 = MLPClassifier(hidden_layer_sizes=(1, ), solver='sgd', activation='tanh', alpha=0.0001, learning_rate_init=0.001, learning_rate='constant', max_iter=500)\n",
        "mlp2 = MLPClassifier(hidden_layer_sizes=(1,2, ), solver='sgd', activation='tanh', alpha=0.0001, learning_rate_init=0.001, learning_rate='constant', max_iter=500)\n",
        "mlp3 = MLPClassifier(hidden_layer_sizes=(1,2,3, ), solver='sgd', activation='tanh', alpha=0.0001, learning_rate_init=0.001, learning_rate='constant', max_iter=500)\n",
        "\n",
        "pipe1 = make_pipeline(StandardScaler(), mlp1)\n",
        "pipe2 = make_pipeline(StandardScaler(), mlp2)\n",
        "pipe3 = make_pipeline(StandardScaler(), mlp3)"
      ],
      "execution_count": 0,
      "outputs": []
    },
    {
      "cell_type": "code",
      "metadata": {
        "colab_type": "code",
        "outputId": "e9f12472-89fe-4cdb-811a-54a23972fc95",
        "id": "_pPyrOajTWb7",
        "colab": {
          "base_uri": "https://localhost:8080/",
          "height": 33
        }
      },
      "source": [
        "pipe1.fit(X_train, y_train)\n",
        "print (pipe1.score(X_test, y_test))\n",
        "pipe2.fit(X_train, y_train)\n",
        "print(pipe2.score(X_test, y_test))\n",
        "pipe3.fit(X_train, y_train)\n",
        "print(pipe3.score(X_test, y_test))"
      ],
      "execution_count": 0,
      "outputs": [
        {
          "output_type": "execute_result",
          "data": {
            "text/plain": [
              "0.40691428571428573"
            ]
          },
          "metadata": {
            "tags": []
          },
          "execution_count": 21
        }
      ]
    },
    {
      "cell_type": "code",
      "metadata": {
        "colab_type": "code",
        "id": "IkkGzaE3Sao3",
        "colab": {}
      },
      "source": [
        "##More Neurons\n",
        "mlp1 = MLPClassifier(hidden_layer_sizes=(10, ), solver='sgd', activation='tanh', alpha=0.0001, learning_rate_init=0.001, learning_rate='constant', max_iter=500)\n",
        "mlp2 = MLPClassifier(hidden_layer_sizes=(10,20, ), solver='sgd', activation='tanh', alpha=0.0001, learning_rate_init=0.001, learning_rate='constant', max_iter=500)\n",
        "mlp3 = MLPClassifier(hidden_layer_sizes=(10,20,30, ), solver='sgd', activation='tanh', alpha=0.0001, learning_rate_init=0.001, learning_rate='constant', max_iter=500)\n",
        "\n",
        "pipe1 = make_pipeline(StandardScaler(), mlp1)\n",
        "pipe2 = make_pipeline(StandardScaler(), mlp2)\n",
        "pipe3 = make_pipeline(StandardScaler(), mlp3)"
      ],
      "execution_count": 0,
      "outputs": []
    },
    {
      "cell_type": "code",
      "metadata": {
        "colab_type": "code",
        "outputId": "e9f12472-89fe-4cdb-811a-54a23972fc95",
        "id": "jtVbfaB2TWFc",
        "colab": {
          "base_uri": "https://localhost:8080/",
          "height": 33
        }
      },
      "source": [
        "pipe1.fit(X_train, y_train)\n",
        "print (pipe1.score(X_test, y_test))\n",
        "pipe2.fit(X_train, y_train)\n",
        "print(pipe2.score(X_test, y_test))\n",
        "pipe3.fit(X_train, y_train)\n",
        "print(pipe3.score(X_test, y_test))"
      ],
      "execution_count": 0,
      "outputs": [
        {
          "output_type": "execute_result",
          "data": {
            "text/plain": [
              "0.40691428571428573"
            ]
          },
          "metadata": {
            "tags": []
          },
          "execution_count": 21
        }
      ]
    },
    {
      "cell_type": "code",
      "metadata": {
        "colab_type": "code",
        "id": "dTwrpaUISa3_",
        "colab": {}
      },
      "source": [
        "##Higher Alpha\n",
        "mlp1 = MLPClassifier(hidden_layer_sizes=(10, ), solver='sgd', activation='tanh', alpha=0.01, learning_rate_init=0.001, learning_rate='constant', max_iter=500)\n",
        "mlp2 = MLPClassifier(hidden_layer_sizes=(10,20, ), solver='sgd', activation='tanh', alpha=0.01, learning_rate_init=0.001, learning_rate='constant', max_iter=500)\n",
        "mlp3 = MLPClassifier(hidden_layer_sizes=(10,20,30, ), solver='sgd', activation='tanh', alpha=0.01, learning_rate_init=0.001, learning_rate='constant', max_iter=500)\n",
        "\n",
        "pipe1 = make_pipeline(StandardScaler(), mlp1)\n",
        "pipe2 = make_pipeline(StandardScaler(), mlp2)\n",
        "pipe3 = make_pipeline(StandardScaler(), mlp3)"
      ],
      "execution_count": 0,
      "outputs": []
    },
    {
      "cell_type": "code",
      "metadata": {
        "colab_type": "code",
        "outputId": "e9f12472-89fe-4cdb-811a-54a23972fc95",
        "id": "fp2Wx_dKTVwL",
        "colab": {
          "base_uri": "https://localhost:8080/",
          "height": 33
        }
      },
      "source": [
        "pipe1.fit(X_train, y_train)\n",
        "print (pipe1.score(X_test, y_test))\n",
        "pipe2.fit(X_train, y_train)\n",
        "print(pipe2.score(X_test, y_test))\n",
        "pipe3.fit(X_train, y_train)\n",
        "print(pipe3.score(X_test, y_test))"
      ],
      "execution_count": 0,
      "outputs": [
        {
          "output_type": "execute_result",
          "data": {
            "text/plain": [
              "0.40691428571428573"
            ]
          },
          "metadata": {
            "tags": []
          },
          "execution_count": 21
        }
      ]
    },
    {
      "cell_type": "code",
      "metadata": {
        "colab_type": "code",
        "id": "qsgQMBpBSbAe",
        "colab": {}
      },
      "source": [
        "##Lower Alpha\n",
        "mlp1 = MLPClassifier(hidden_layer_sizes=(10, ), solver='sgd', activation='tanh', alpha=0.00001, learning_rate_init=0.001, learning_rate='constant', max_iter=500)\n",
        "mlp2 = MLPClassifier(hidden_layer_sizes=(10,20, ), solver='sgd', activation='tanh', alpha=0.00001, learning_rate_init=0.001, learning_rate='constant', max_iter=500)\n",
        "mlp3 = MLPClassifier(hidden_layer_sizes=(10,20,30, ), solver='sgd', activation='tanh', alpha=0.00001, learning_rate_init=0.001, learning_rate='constant', max_iter=500)\n",
        "\n",
        "pipe1 = make_pipeline(StandardScaler(), mlp1)\n",
        "pipe2 = make_pipeline(StandardScaler(), mlp2)\n",
        "pipe3 = make_pipeline(StandardScaler(), mlp3)"
      ],
      "execution_count": 0,
      "outputs": []
    },
    {
      "cell_type": "code",
      "metadata": {
        "colab_type": "code",
        "outputId": "e9f12472-89fe-4cdb-811a-54a23972fc95",
        "id": "wBtKgg3aTVbs",
        "colab": {
          "base_uri": "https://localhost:8080/",
          "height": 33
        }
      },
      "source": [
        "pipe1.fit(X_train, y_train)\n",
        "print (pipe1.score(X_test, y_test))\n",
        "pipe2.fit(X_train, y_train)\n",
        "print(pipe2.score(X_test, y_test))\n",
        "pipe3.fit(X_train, y_train)\n",
        "print(pipe3.score(X_test, y_test))"
      ],
      "execution_count": 0,
      "outputs": [
        {
          "output_type": "execute_result",
          "data": {
            "text/plain": [
              "0.40691428571428573"
            ]
          },
          "metadata": {
            "tags": []
          },
          "execution_count": 21
        }
      ]
    },
    {
      "cell_type": "code",
      "metadata": {
        "colab_type": "code",
        "id": "FXH0g5y_SbH1",
        "colab": {}
      },
      "source": [
        "##Higher Learning Rate\n",
        "mlp1 = MLPClassifier(hidden_layer_sizes=(10, ), solver='sgd', activation='tanh', alpha=0.0001, learning_rate_init=0.1, learning_rate='constant', max_iter=500)\n",
        "mlp2 = MLPClassifier(hidden_layer_sizes=(10,20, ), solver='sgd', activation='tanh', alpha=0.0001, learning_rate_init=0.1, learning_rate='constant', max_iter=500)\n",
        "mlp3 = MLPClassifier(hidden_layer_sizes=(10,20,30, ), solver='sgd', activation='tanh', alpha=0.0001, learning_rate_init=0.1, learning_rate='constant', max_iter=500)\n",
        "\n",
        "pipe1 = make_pipeline(StandardScaler(), mlp1)\n",
        "pipe2 = make_pipeline(StandardScaler(), mlp2)\n",
        "pipe3 = make_pipeline(StandardScaler(), mlp3)"
      ],
      "execution_count": 0,
      "outputs": []
    },
    {
      "cell_type": "code",
      "metadata": {
        "colab_type": "code",
        "outputId": "e9f12472-89fe-4cdb-811a-54a23972fc95",
        "id": "C_OZxO9vTSht",
        "colab": {
          "base_uri": "https://localhost:8080/",
          "height": 33
        }
      },
      "source": [
        "pipe1.fit(X_train, y_train)\n",
        "print (pipe1.score(X_test, y_test))\n",
        "pipe2.fit(X_train, y_train)\n",
        "print(pipe2.score(X_test, y_test))\n",
        "pipe3.fit(X_train, y_train)\n",
        "print(pipe3.score(X_test, y_test))"
      ],
      "execution_count": 0,
      "outputs": [
        {
          "output_type": "execute_result",
          "data": {
            "text/plain": [
              "0.40691428571428573"
            ]
          },
          "metadata": {
            "tags": []
          },
          "execution_count": 21
        }
      ]
    },
    {
      "cell_type": "code",
      "metadata": {
        "colab_type": "code",
        "id": "ukDFtB0aSkX2",
        "colab": {}
      },
      "source": [
        "##Lower Learning Rate\n",
        "mlp1 = MLPClassifier(hidden_layer_sizes=(10, ), solver='sgd', activation='tanh', alpha=0.0001, learning_rate_init=0.0001, learning_rate='constant', max_iter=500)\n",
        "mlp2 = MLPClassifier(hidden_layer_sizes=(10,20, ), solver='sgd', activation='tanh', alpha=0.0001, learning_rate_init=0.0001, learning_rate='constant', max_iter=500)\n",
        "mlp3 = MLPClassifier(hidden_layer_sizes=(10,20,30, ), solver='sgd', activation='tanh', alpha=0.0001, learning_rate_init=0.0001, learning_rate='constant', max_iter=500)\n",
        "\n",
        "pipe1 = make_pipeline(StandardScaler(), mlp1)\n",
        "pipe2 = make_pipeline(StandardScaler(), mlp2)\n",
        "pipe3 = make_pipeline(StandardScaler(), mlp3)"
      ],
      "execution_count": 0,
      "outputs": []
    },
    {
      "cell_type": "code",
      "metadata": {
        "id": "yMsY2qBsgevY",
        "colab_type": "code",
        "outputId": "e9f12472-89fe-4cdb-811a-54a23972fc95",
        "colab": {
          "base_uri": "https://localhost:8080/",
          "height": 33
        }
      },
      "source": [
        "pipe1.fit(X_train, y_train)\n",
        "print (pipe1.score(X_test, y_test))\n",
        "pipe2.fit(X_train, y_train)\n",
        "print(pipe2.score(X_test, y_test))\n",
        "pipe3.fit(X_train, y_train)\n",
        "print(pipe3.score(X_test, y_test))"
      ],
      "execution_count": 0,
      "outputs": [
        {
          "output_type": "execute_result",
          "data": {
            "text/plain": [
              "0.40691428571428573"
            ]
          },
          "metadata": {
            "tags": []
          },
          "execution_count": 21
        }
      ]
    }
  ]
}