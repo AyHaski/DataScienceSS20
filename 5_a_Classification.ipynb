{
  "nbformat": 4,
  "nbformat_minor": 0,
  "metadata": {
    "kernelspec": {
      "display_name": "Python 3",
      "language": "python",
      "name": "python3"
    },
    "language_info": {
      "codemirror_mode": {
        "name": "ipython",
        "version": 3
      },
      "file_extension": ".py",
      "mimetype": "text/x-python",
      "name": "python",
      "nbconvert_exporter": "python",
      "pygments_lexer": "ipython3",
      "version": "3.7.6"
    },
    "colab": {
      "name": "Copy of 5_a_Classification.ipynb",
      "provenance": [],
      "collapsed_sections": []
    }
  },
  "cells": [
    {
      "cell_type": "markdown",
      "metadata": {
        "id": "_c4I-PLf8ORV",
        "colab_type": "text"
      },
      "source": [
        "# Block 5 Exercise 1: Classification"
      ]
    },
    {
      "cell_type": "markdown",
      "metadata": {
        "id": "IRg_MYPf8ORW",
        "colab_type": "text"
      },
      "source": [
        "## MNIST Data\n",
        "In these exercises we are using the MNIST data set on handwritten digits to compare supervised classification algorithms...   "
      ]
    },
    {
      "cell_type": "code",
      "metadata": {
        "id": "E_CISnob8ORX",
        "colab_type": "code",
        "colab": {}
      },
      "source": [
        "#imports \n",
        "import matplotlib.pyplot as plt\n",
        "import numpy as np\n",
        "from sklearn.datasets import fetch_openml\n",
        "from sklearn.model_selection import train_test_split"
      ],
      "execution_count": 0,
      "outputs": []
    },
    {
      "cell_type": "code",
      "metadata": {
        "id": "KGXyFTBe8ORc",
        "colab_type": "code",
        "colab": {}
      },
      "source": [
        "# Load data from https://www.openml.org/d/554\n",
        "X, y = fetch_openml('mnist_784', version=1, return_X_y=True)\n"
      ],
      "execution_count": 0,
      "outputs": []
    },
    {
      "cell_type": "code",
      "metadata": {
        "id": "mmPJi1Nb8ORg",
        "colab_type": "code",
        "outputId": "2d3b432c-4030-4b51-c500-0f709e43a6b2",
        "colab": {
          "base_uri": "https://localhost:8080/",
          "height": 33
        }
      },
      "source": [
        "#the full MNIST data set contains 70k samples of digits 0-9 as 28*28 gray scale images (represented as 784 dim vectors)\n",
        "np.shape(X)"
      ],
      "execution_count": 3,
      "outputs": [
        {
          "output_type": "execute_result",
          "data": {
            "text/plain": [
              "(70000, 784)"
            ]
          },
          "metadata": {
            "tags": []
          },
          "execution_count": 3
        }
      ]
    },
    {
      "cell_type": "markdown",
      "metadata": {
        "id": "PiVU8WeG8ORl",
        "colab_type": "text"
      },
      "source": [
        "### E1.1: Use SkLearn methods to split the MNIST data into random train and test sets. Use 60k samples for training.  \n"
      ]
    },
    {
      "cell_type": "code",
      "metadata": {
        "id": "ts82psmYEP82",
        "colab_type": "code",
        "colab": {}
      },
      "source": [
        "sampleTrainNum=60000\n",
        "X_train, X_test, y_train, y_test = train_test_split(X, y, train_size=sampleTrainNum)"
      ],
      "execution_count": 0,
      "outputs": []
    },
    {
      "cell_type": "markdown",
      "metadata": {
        "id": "GrO-aZHe8ORm",
        "colab_type": "text"
      },
      "source": [
        "### E1.2: Visualize the data.\n",
        "* Plot some data samples as images (use https://matplotlib.org/3.1.0/api/_as_gen/matplotlib.pyplot.imshow.html)"
      ]
    },
    {
      "cell_type": "code",
      "metadata": {
        "id": "a3dS5va0E-XM",
        "colab_type": "code",
        "outputId": "dc0ccf73-20bd-4f8e-9978-a2477c170dea",
        "colab": {
          "base_uri": "https://localhost:8080/",
          "height": 265
        }
      },
      "source": [
        "# The rest of columns are pixels\n",
        "pixels = X_train[0]\n",
        "pixels = np.array(pixels, dtype='uint8')\n",
        "\n",
        "# Reshape the array into 28 x 28 array (2-dimensional array)\n",
        "pixels = pixels.reshape((28, 28))\n",
        "\n",
        "# Plot\n",
        "plt.imshow(pixels, cmap='gray')\n",
        "plt.show()"
      ],
      "execution_count": 5,
      "outputs": [
        {
          "output_type": "display_data",
          "data": {
            "image/png": "[encoded data removed]",
            "text/plain": [
              "<Figure size 432x288 with 1 Axes>"
            ]
          },
          "metadata": {
            "tags": [],
            "needs_background": "light"
          }
        }
      ]
    },
    {
      "cell_type": "code",
      "metadata": {
        "id": "fqxRwCP2FJuP",
        "colab_type": "code",
        "outputId": "7a19bea2-8cf9-4cd9-c4d8-7c4f3b2701fb",
        "colab": {
          "base_uri": "https://localhost:8080/",
          "height": 265
        }
      },
      "source": [
        "# The rest of columns are pixels\n",
        "pixels = X_train[42]\n",
        "pixels = np.array(pixels, dtype='uint8')\n",
        "\n",
        "# Reshape the array into 28 x 28 array (2-dimensional array)\n",
        "pixels = pixels.reshape((28, 28))\n",
        "\n",
        "# Plot\n",
        "plt.imshow(pixels, cmap='gray')\n",
        "plt.show()"
      ],
      "execution_count": 6,
      "outputs": [
        {
          "output_type": "display_data",
          "data": {
            "image/png": "[encoded data removed]",
            "text/plain": [
              "<Figure size 432x288 with 1 Axes>"
            ]
          },
          "metadata": {
            "tags": [],
            "needs_background": "light"
          }
        }
      ]
    },
    {
      "cell_type": "markdown",
      "metadata": {
        "id": "PPJ0Bc5I8ORm",
        "colab_type": "text"
      },
      "source": [
        "### E1.3: Train models on the train data.\n",
        "Train the following models with default parameters on the train data.\n",
        "* [Naive Bayes](https://scikit-learn.org/stable/modules/generated/sklearn.naive_bayes.GaussianNB.html#sklearn.naive_bayes.GaussianNB) (assuming a Gaussian distribution of the data)\n",
        "* [Simple linear model](https://scikit-learn.org/stable/modules/generated/sklearn.linear_model.SGDClassifier.html#sklearn.linear_model.SGDClassifier)\n",
        "   * use ``loss='log'`` to reproduce our logistic loss function \n",
        "* [Random Forest](https://scikit-learn.org/stable/modules/generated/sklearn.ensemble.RandomForestClassifier.html#sklearn.ensemble.RandomForestClassifier)\n",
        "\n",
        "Compare the training accuracy (https://scikit-learn.org/stable/modules/generated/sklearn.metrics.accuracy_score.html#sklearn.metrics.accuracy_score) and [confusion matrix](https://scikit-learn.org/stable/modules/generated/sklearn.metrics.confusion_matrix.html#sklearn.metrics.confusion_matrix) for all three models."
      ]
    },
    {
      "cell_type": "code",
      "metadata": {
        "id": "qo_wrQUnOU7x",
        "colab_type": "code",
        "colab": {}
      },
      "source": [
        "from sklearn.naive_bayes import GaussianNB\n",
        "from sklearn import linear_model \n",
        "from sklearn.ensemble import RandomForestClassifier\n",
        "from sklearn.metrics import accuracy_score\n",
        "from sklearn.metrics import confusion_matrix\n",
        "from sklearn.metrics import f1_score\n",
        "from sklearn.metrics import roc_auc_score,  roc_curve, auc"
      ],
      "execution_count": 0,
      "outputs": []
    },
    {
      "cell_type": "code",
      "metadata": {
        "id": "Dr2ZW6ttLjaK",
        "colab_type": "code",
        "outputId": "5daa1c20-8d70-472d-b155-3d8f290880ad",
        "colab": {
          "base_uri": "https://localhost:8080/",
          "height": 33
        }
      },
      "source": [
        "naiveBayes = GaussianNB()\n",
        "naiveBayes.fit(X_train, y_train)"
      ],
      "execution_count": 8,
      "outputs": [
        {
          "output_type": "execute_result",
          "data": {
            "text/plain": [
              "GaussianNB(priors=None, var_smoothing=1e-09)"
            ]
          },
          "metadata": {
            "tags": []
          },
          "execution_count": 8
        }
      ]
    },
    {
      "cell_type": "code",
      "metadata": {
        "id": "jutFklHtL6vH",
        "colab_type": "code",
        "outputId": "3cbdfa08-ed26-4957-f29c-fb5d0f46cc7a",
        "colab": {
          "base_uri": "https://localhost:8080/",
          "height": 115
        }
      },
      "source": [
        "slm = linear_model.SGDClassifier(loss='log')\n",
        "slm.fit(X_train, y_train)"
      ],
      "execution_count": 9,
      "outputs": [
        {
          "output_type": "execute_result",
          "data": {
            "text/plain": [
              "SGDClassifier(alpha=0.0001, average=False, class_weight=None,\n",
              "              early_stopping=False, epsilon=0.1, eta0=0.0, fit_intercept=True,\n",
              "              l1_ratio=0.15, learning_rate='optimal', loss='log', max_iter=1000,\n",
              "              n_iter_no_change=5, n_jobs=None, penalty='l2', power_t=0.5,\n",
              "              random_state=None, shuffle=True, tol=0.001,\n",
              "              validation_fraction=0.1, verbose=0, warm_start=False)"
            ]
          },
          "metadata": {
            "tags": []
          },
          "execution_count": 9
        }
      ]
    },
    {
      "cell_type": "code",
      "metadata": {
        "id": "_R0LkRkXL6yX",
        "colab_type": "code",
        "outputId": "49ecfaca-36d4-478e-cbf9-839e55fefdb8",
        "colab": {
          "base_uri": "https://localhost:8080/",
          "height": 147
        }
      },
      "source": [
        "rf = RandomForestClassifier()\n",
        "rf.fit(X_train, y_train)"
      ],
      "execution_count": 10,
      "outputs": [
        {
          "output_type": "execute_result",
          "data": {
            "text/plain": [
              "RandomForestClassifier(bootstrap=True, ccp_alpha=0.0, class_weight=None,\n",
              "                       criterion='gini', max_depth=None, max_features='auto',\n",
              "                       max_leaf_nodes=None, max_samples=None,\n",
              "                       min_impurity_decrease=0.0, min_impurity_split=None,\n",
              "                       min_samples_leaf=1, min_samples_split=2,\n",
              "                       min_weight_fraction_leaf=0.0, n_estimators=100,\n",
              "                       n_jobs=None, oob_score=False, random_state=None,\n",
              "                       verbose=0, warm_start=False)"
            ]
          },
          "metadata": {
            "tags": []
          },
          "execution_count": 10
        }
      ]
    },
    {
      "cell_type": "code",
      "metadata": {
        "id": "RkH-_7X7Q_4N",
        "colab_type": "code",
        "colab": {}
      },
      "source": [
        "y_predNaiveBayes = naiveBayes.predict(X_train)\n",
        "y_predSml = slm.predict(X_train)\n",
        "y_predRf = rf.predict(X_train)"
      ],
      "execution_count": 0,
      "outputs": []
    },
    {
      "cell_type": "code",
      "metadata": {
        "id": "xYlRiAPLQMgg",
        "colab_type": "code",
        "outputId": "33a0df73-9ad0-4550-bf67-a69c35687dd5",
        "colab": {
          "base_uri": "https://localhost:8080/",
          "height": 196
        }
      },
      "source": [
        "print(\"Naive Bayes Accuracy:\", accuracy_score(y_train, y_predNaiveBayes))\n",
        "confusion_matrix(y_train, y_predNaiveBayes)"
      ],
      "execution_count": 12,
      "outputs": [
        {
          "output_type": "stream",
          "text": [
            "Naive Bayes Accuracy: 0.5573666666666667\n"
          ],
          "name": "stdout"
        },
        {
          "output_type": "execute_result",
          "data": {
            "text/plain": [
              "array([[5257,   10,   35,   18,   10,   13,  223,    4,  256,  139],\n",
              "       [   2, 6418,   14,   25,    1,    8,   82,    2,  160,   73],\n",
              "       [ 488,  156, 1838,  403,   21,   36, 1518,   16, 1404,  100],\n",
              "       [ 294,  320,   51, 2189,    9,   16,  342,   50, 2173,  661],\n",
              "       [ 161,   38,   55,   35,  775,   45,  595,   40, 1248, 2864],\n",
              "       [ 562,  139,   31,  120,   17,  272,  316,    9, 3306,  591],\n",
              "       [  46,  103,   31,    2,    4,   18, 5509,    0,  118,    8],\n",
              "       [  22,   48,   11,   55,   36,    5,   23, 1938,  187, 3961],\n",
              "       [  85,  731,   28,   48,   18,   39,  111,   10, 3608, 1178],\n",
              "       [  32,   36,   16,   10,   32,    5,    4,   85,  107, 5638]])"
            ]
          },
          "metadata": {
            "tags": []
          },
          "execution_count": 12
        }
      ]
    },
    {
      "cell_type": "code",
      "metadata": {
        "id": "uMim-Yv5QS8m",
        "colab_type": "code",
        "outputId": "24d99b66-a18d-458b-917e-4e9944cae47e",
        "colab": {
          "base_uri": "https://localhost:8080/",
          "height": 196
        }
      },
      "source": [
        "print(\"Simple linear model Accuracy:\", accuracy_score(y_train, y_predSml))\n",
        "confusion_matrix(y_train, y_predSml)"
      ],
      "execution_count": 13,
      "outputs": [
        {
          "output_type": "stream",
          "text": [
            "Simple linear model Accuracy: 0.86145\n"
          ],
          "name": "stdout"
        },
        {
          "output_type": "execute_result",
          "data": {
            "text/plain": [
              "array([[5739,    0,   37,   44,   49,    5,   39,    1,   50,    1],\n",
              "       [   2, 6594,   61,   62,   13,    3,    7,    1,   33,    9],\n",
              "       [  15,   36, 5349,  305,  136,    4,   42,   11,   73,    9],\n",
              "       [  10,   14,  172, 5729,   26,   33,   21,   13,   57,   30],\n",
              "       [   4,   16,   31,   18, 5702,    2,   24,    1,   27,   31],\n",
              "       [  61,   10,  114,  760,  233, 3679,  196,    5,  266,   39],\n",
              "       [  27,    9,   51,   21,   53,   30, 5605,    0,   41,    2],\n",
              "       [  19,   18,  267,  375,  249,   10,    7, 4926,   67,  348],\n",
              "       [  35,   76,  406,  878,  117,  150,   43,    4, 4076,   71],\n",
              "       [  26,   16,   56,  449,  972,   39,    0,   52,   67, 4288]])"
            ]
          },
          "metadata": {
            "tags": []
          },
          "execution_count": 13
        }
      ]
    },
    {
      "cell_type": "code",
      "metadata": {
        "id": "gCAfnXEbQSok",
        "colab_type": "code",
        "outputId": "3ece7f19-a15e-4e21-c07a-a73e7478147e",
        "colab": {
          "base_uri": "https://localhost:8080/",
          "height": 196
        }
      },
      "source": [
        "print(\"Random Forest Accuracy:\", accuracy_score(y_train, y_predRf))\n",
        "confusion_matrix(y_train, y_predRf)"
      ],
      "execution_count": 14,
      "outputs": [
        {
          "output_type": "stream",
          "text": [
            "Random Forest Accuracy: 1.0\n"
          ],
          "name": "stdout"
        },
        {
          "output_type": "execute_result",
          "data": {
            "text/plain": [
              "array([[5965,    0,    0,    0,    0,    0,    0,    0,    0,    0],\n",
              "       [   0, 6785,    0,    0,    0,    0,    0,    0,    0,    0],\n",
              "       [   0,    0, 5980,    0,    0,    0,    0,    0,    0,    0],\n",
              "       [   0,    0,    0, 6105,    0,    0,    0,    0,    0,    0],\n",
              "       [   0,    0,    0,    0, 5856,    0,    0,    0,    0,    0],\n",
              "       [   0,    0,    0,    0,    0, 5363,    0,    0,    0,    0],\n",
              "       [   0,    0,    0,    0,    0,    0, 5839,    0,    0,    0],\n",
              "       [   0,    0,    0,    0,    0,    0,    0, 6286,    0,    0],\n",
              "       [   0,    0,    0,    0,    0,    0,    0,    0, 5856,    0],\n",
              "       [   0,    0,    0,    0,    0,    0,    0,    0,    0, 5965]])"
            ]
          },
          "metadata": {
            "tags": []
          },
          "execution_count": 14
        }
      ]
    },
    {
      "cell_type": "markdown",
      "metadata": {
        "id": "yMnUlneg8ORn",
        "colab_type": "text"
      },
      "source": [
        "### E1.4: Evaluate and compare the models on the test set.\n",
        "* compute the test [accuracy](https://scikit-learn.org/stable/modules/generated/sklearn.metrics.accuracy_score.html#sklearn.metrics.accuracy_score) \n",
        "* compute the [F-Measure](https://scikit-learn.org/stable/modules/generated/sklearn.metrics.f1_score.html#sklearn.metrics.f1_score)\n",
        "* plot a [ROC curves](https://scikit-learn.org/stable/modules/generated/sklearn.metrics.roc_curve.html#sklearn.metrics.roc_curve) for the class \"5\" for all three models.\n",
        "                          "
      ]
    },
    {
      "cell_type": "code",
      "metadata": {
        "id": "iAOZfIvhQtzn",
        "colab_type": "code",
        "outputId": "685854e6-f83b-4989-c5cf-5fa53ebd9107",
        "colab": {
          "base_uri": "https://localhost:8080/",
          "height": 66
        }
      },
      "source": [
        "y_predNaiveBayesTest = naiveBayes.predict(X_test)\n",
        "y_predSmlTest = slm.predict(X_test)\n",
        "y_predRfTest = rf.predict(X_test)\n",
        "print(\"Naive Bayes Accuracy:\", accuracy_score(y_test, y_predNaiveBayesTest))\n",
        "print(\"Simple linear model Accuracy:\", accuracy_score(y_test, y_predSmlTest))\n",
        "print(\"Random Forest Accuracy:\", accuracy_score(y_test, y_predRfTest))"
      ],
      "execution_count": 15,
      "outputs": [
        {
          "output_type": "stream",
          "text": [
            "Naive Bayes Accuracy: 0.5559\n",
            "Simple linear model Accuracy: 0.8504\n",
            "Random Forest Accuracy: 0.9701\n"
          ],
          "name": "stdout"
        }
      ]
    },
    {
      "cell_type": "code",
      "metadata": {
        "id": "NMfYCpAhQuan",
        "colab_type": "code",
        "outputId": "dfd47d92-6334-419b-9cac-39ac47d2f0b6",
        "colab": {
          "base_uri": "https://localhost:8080/",
          "height": 115
        }
      },
      "source": [
        "print(\"Naive Bayes F-Measure:\", f1_score(y_test, y_predNaiveBayesTest,average=None))\n",
        "print(\"Simple linear model F-Measure:\", f1_score(y_test, y_predSmlTest,average=None))\n",
        "print(\"Random Forest F-Measure:\", f1_score(y_test, y_predRfTest,average=None))"
      ],
      "execution_count": 16,
      "outputs": [
        {
          "output_type": "stream",
          "text": [
            "Naive Bayes F-Measure: [0.80019212 0.85822465 0.44362018 0.49706458 0.27154047 0.08275862\n",
            " 0.76687598 0.45190157 0.38894309 0.53793884]\n",
            "Simple linear model F-Measure: [0.95897709 0.96032832 0.83175803 0.76663994 0.85013624 0.77885784\n",
            " 0.93543759 0.86218302 0.75608376 0.78888889]\n",
            "Random Forest F-Measure: [0.98306878 0.98170174 0.96847291 0.95821186 0.97578568 0.96668429\n",
            " 0.97739298 0.97066136 0.95813953 0.96008085]\n"
          ],
          "name": "stdout"
        }
      ]
    },
    {
      "cell_type": "code",
      "metadata": {
        "id": "SJB9SOHcaXMS",
        "colab_type": "code",
        "colab": {}
      },
      "source": [
        "naiveBayes5 = y_predNaiveBayesTest.astype(int)==5\n",
        "slm5 = y_predSmlTest.astype(int)==5\n",
        "rf5 = y_predRfTest.astype(int)==5\n",
        "\n",
        "five = y_test=='5'\n",
        "\n",
        "naiveBayes_fpr, naiveBayes_tpr, _ = roc_curve(five, naiveBayes5)\n",
        "slm_fpr, slm_tpr, _ = roc_curve(five, slm5)\n",
        "rf_fpr, rf_tpr, _ = roc_curve(five, rf5)"
      ],
      "execution_count": 0,
      "outputs": []
    },
    {
      "cell_type": "code",
      "metadata": {
        "id": "wA-TN2cBAY19",
        "colab_type": "code",
        "colab": {
          "base_uri": "https://localhost:8080/",
          "height": 278
        },
        "outputId": "b9715afa-7cf7-4dac-a948-39a25e7227f5"
      },
      "source": [
        "lw = 2\n",
        "plt.plot(naiveBayes_fpr, naiveBayes_tpr, color='red',\n",
        "         lw=lw, label='Naive Bayes')\n",
        "plt.plot(slm_fpr, slm_tpr, color='yellow',\n",
        "         lw=lw, label='SLM' )\n",
        "plt.plot(rf_fpr, rf_tpr, color='blue',\n",
        "         lw=lw, label='RF')\n",
        "plt.plot([0, 1], [0, 1], color='black', lw=lw, linestyle='--')\n",
        "plt.xlim([0.0, 1.0])\n",
        "plt.ylim([0.0, 1.05])\n",
        "plt.xlabel('False Positive Rate')\n",
        "plt.ylabel('True Positive Rate')\n",
        "plt.legend(loc=\"lower right\")\n",
        "plt.show()"
      ],
      "execution_count": 19,
      "outputs": [
        {
          "output_type": "display_data",
          "data": {
            "image/png": "[encoded data removed]",
            "text/plain": [
              "<Figure size 432x288 with 1 Axes>"
            ]
          },
          "metadata": {
            "tags": [],
            "needs_background": "light"
          }
        }
      ]
    }
  ]
}