{
  "nbformat": 4,
  "nbformat_minor": 0,
  "metadata": {
    "kernelspec": {
      "display_name": "Python 3",
      "language": "python",
      "name": "python3"
    },
    "language_info": {
      "codemirror_mode": {
        "name": "ipython",
        "version": 3
      },
      "file_extension": ".py",
      "mimetype": "text/x-python",
      "name": "python",
      "nbconvert_exporter": "python",
      "pygments_lexer": "ipython3",
      "version": "3.7.6"
    },
    "colab": {
      "name": "Copy of 5_a_Classification.ipynb",
      "provenance": [],
      "collapsed_sections": []
    }
  },
  "cells": [
    {
      "cell_type": "markdown",
      "metadata": {
        "id": "_c4I-PLf8ORV",
        "colab_type": "text"
      },
      "source": [
        "# Block 5 Exercise 1: Classification"
      ]
    },
    {
      "cell_type": "markdown",
      "metadata": {
        "id": "IRg_MYPf8ORW",
        "colab_type": "text"
      },
      "source": [
        "## MNIST Data\n",
        "In these exercises we are using the MNIST data set on handwritten digits to compare supervised classification algorithms...   "
      ]
    },
    {
      "cell_type": "code",
      "metadata": {
        "id": "E_CISnob8ORX",
        "colab_type": "code",
        "colab": {}
      },
      "source": [
        "#imports \n",
        "import matplotlib.pyplot as plt\n",
        "import numpy as np\n",
        "from sklearn.datasets import fetch_openml\n",
        "from sklearn.model_selection import train_test_split"
      ],
      "execution_count": 0,
      "outputs": []
    },
    {
      "cell_type": "code",
      "metadata": {
        "id": "KGXyFTBe8ORc",
        "colab_type": "code",
        "colab": {}
      },
      "source": [
        "# Load data from https://www.openml.org/d/554\n",
        "X, y = fetch_openml('mnist_784', version=1, return_X_y=True)\n"
      ],
      "execution_count": 0,
      "outputs": []
    },
    {
      "cell_type": "code",
      "metadata": {
        "id": "mmPJi1Nb8ORg",
        "colab_type": "code",
        "outputId": "1839dad3-e758-4f72-9a2a-56249073ce15",
        "colab": {
          "base_uri": "https://localhost:8080/",
          "height": 33
        }
      },
      "source": [
        "#the full MNIST data set contains 70k samples of digits 0-9 as 28*28 gray scale images (represented as 784 dim vectors)\n",
        "np.shape(X)"
      ],
      "execution_count": 14,
      "outputs": [
        {
          "output_type": "execute_result",
          "data": {
            "text/plain": [
              "(70000, 784)"
            ]
          },
          "metadata": {
            "tags": []
          },
          "execution_count": 14
        }
      ]
    },
    {
      "cell_type": "markdown",
      "metadata": {
        "id": "PiVU8WeG8ORl",
        "colab_type": "text"
      },
      "source": [
        "### E1.1: Use SkLearn methods to split the MNIST data into random train and test sets. Use 60k samples for training.  \n"
      ]
    },
    {
      "cell_type": "code",
      "metadata": {
        "id": "ts82psmYEP82",
        "colab_type": "code",
        "colab": {}
      },
      "source": [
        "sampleTrainNum=60000\n",
        "X_train, X_test, y_train, y_test = train_test_split(X, y, train_size=sampleTrainNum)"
      ],
      "execution_count": 0,
      "outputs": []
    },
    {
      "cell_type": "markdown",
      "metadata": {
        "id": "GrO-aZHe8ORm",
        "colab_type": "text"
      },
      "source": [
        "### E1.2: Visualize the data.\n",
        "* Plot some data samples as images (use https://matplotlib.org/3.1.0/api/_as_gen/matplotlib.pyplot.imshow.html)"
      ]
    },
    {
      "cell_type": "code",
      "metadata": {
        "id": "a3dS5va0E-XM",
        "colab_type": "code",
        "colab": {
          "base_uri": "https://localhost:8080/",
          "height": 265
        },
        "outputId": "2777b38b-d225-4ad6-f848-8eabe03cb6b9"
      },
      "source": [
        "# The rest of columns are pixels\n",
        "pixels = X_train[0]\n",
        "pixels = np.array(pixels, dtype='uint8')\n",
        "\n",
        "# Reshape the array into 28 x 28 array (2-dimensional array)\n",
        "pixels = pixels.reshape((28, 28))\n",
        "\n",
        "# Plot\n",
        "plt.imshow(pixels, cmap='gray')\n",
        "plt.show()"
      ],
      "execution_count": 48,
      "outputs": [
        {
          "output_type": "display_data",
          "data": {
            "image/png": "[encoded data removed]",
            "text/plain": [
              "<Figure size 432x288 with 1 Axes>"
            ]
          },
          "metadata": {
            "tags": [],
            "needs_background": "light"
          }
        }
      ]
    },
    {
      "cell_type": "code",
      "metadata": {
        "id": "fqxRwCP2FJuP",
        "colab_type": "code",
        "colab": {
          "base_uri": "https://localhost:8080/",
          "height": 265
        },
        "outputId": "8764d83b-e82f-466a-aeb6-8280ddc4138f"
      },
      "source": [
        "# The rest of columns are pixels\n",
        "pixels = X_train[42]\n",
        "pixels = np.array(pixels, dtype='uint8')\n",
        "\n",
        "# Reshape the array into 28 x 28 array (2-dimensional array)\n",
        "pixels = pixels.reshape((28, 28))\n",
        "\n",
        "# Plot\n",
        "plt.imshow(pixels, cmap='gray')\n",
        "plt.show()"
      ],
      "execution_count": 49,
      "outputs": [
        {
          "output_type": "display_data",
          "data": {
            "image/png": "[encoded data removed]",
            "text/plain": [
              "<Figure size 432x288 with 1 Axes>"
            ]
          },
          "metadata": {
            "tags": [],
            "needs_background": "light"
          }
        }
      ]
    },
    {
      "cell_type": "markdown",
      "metadata": {
        "id": "PPJ0Bc5I8ORm",
        "colab_type": "text"
      },
      "source": [
        "### E1.3: Train models on the train data.\n",
        "Train the following models with default parameters on the train data.\n",
        "* [Naive Bayes](https://scikit-learn.org/stable/modules/generated/sklearn.naive_bayes.GaussianNB.html#sklearn.naive_bayes.GaussianNB) (assuming a Gaussian distribution of the data)\n",
        "* [Simple linear model](https://scikit-learn.org/stable/modules/generated/sklearn.linear_model.SGDClassifier.html#sklearn.linear_model.SGDClassifier)\n",
        "   * use ``loss='log'`` to reproduce our logistic loss function \n",
        "* [Random Forest](https://scikit-learn.org/stable/modules/generated/sklearn.ensemble.RandomForestClassifier.html#sklearn.ensemble.RandomForestClassifier)\n",
        "\n",
        "Compare the training accuracy (https://scikit-learn.org/stable/modules/generated/sklearn.metrics.accuracy_score.html#sklearn.metrics.accuracy_score) and [confusion matrix](https://scikit-learn.org/stable/modules/generated/sklearn.metrics.confusion_matrix.html#sklearn.metrics.confusion_matrix) for all three models."
      ]
    },
    {
      "cell_type": "code",
      "metadata": {
        "id": "qo_wrQUnOU7x",
        "colab_type": "code",
        "colab": {}
      },
      "source": [
        "from sklearn.naive_bayes import GaussianNB\n",
        "from sklearn import linear_model \n",
        "from sklearn.ensemble import RandomForestClassifier\n",
        "from sklearn.metrics import accuracy_score\n",
        "from sklearn.metrics import confusion_matrix\n",
        "from sklearn.metrics import f1_score\n",
        "from sklearn.metrics import roc_curve"
      ],
      "execution_count": 0,
      "outputs": []
    },
    {
      "cell_type": "code",
      "metadata": {
        "id": "Dr2ZW6ttLjaK",
        "colab_type": "code",
        "colab": {
          "base_uri": "https://localhost:8080/",
          "height": 33
        },
        "outputId": "76e117f5-5078-4d2b-c63c-dfaea7e19d17"
      },
      "source": [
        "naiveBayes = GaussianNB()\n",
        "naiveBayes.fit(X_train, y_train)"
      ],
      "execution_count": 63,
      "outputs": [
        {
          "output_type": "execute_result",
          "data": {
            "text/plain": [
              "GaussianNB(priors=None, var_smoothing=1e-09)"
            ]
          },
          "metadata": {
            "tags": []
          },
          "execution_count": 63
        }
      ]
    },
    {
      "cell_type": "code",
      "metadata": {
        "id": "jutFklHtL6vH",
        "colab_type": "code",
        "colab": {
          "base_uri": "https://localhost:8080/",
          "height": 115
        },
        "outputId": "997e1fc9-75a5-40ef-f808-260ad5820a82"
      },
      "source": [
        "slm = linear_model.SGDClassifier(loss='log')\n",
        "slm.fit(X_train, y_train)"
      ],
      "execution_count": 64,
      "outputs": [
        {
          "output_type": "execute_result",
          "data": {
            "text/plain": [
              "SGDClassifier(alpha=0.0001, average=False, class_weight=None,\n",
              "              early_stopping=False, epsilon=0.1, eta0=0.0, fit_intercept=True,\n",
              "              l1_ratio=0.15, learning_rate='optimal', loss='log', max_iter=1000,\n",
              "              n_iter_no_change=5, n_jobs=None, penalty='l2', power_t=0.5,\n",
              "              random_state=None, shuffle=True, tol=0.001,\n",
              "              validation_fraction=0.1, verbose=0, warm_start=False)"
            ]
          },
          "metadata": {
            "tags": []
          },
          "execution_count": 64
        }
      ]
    },
    {
      "cell_type": "code",
      "metadata": {
        "id": "_R0LkRkXL6yX",
        "colab_type": "code",
        "colab": {
          "base_uri": "https://localhost:8080/",
          "height": 147
        },
        "outputId": "6a0dcba4-37f2-477b-a682-387b034db026"
      },
      "source": [
        "rf = RandomForestClassifier()\n",
        "rf.fit(X_train, y_train)"
      ],
      "execution_count": 65,
      "outputs": [
        {
          "output_type": "execute_result",
          "data": {
            "text/plain": [
              "RandomForestClassifier(bootstrap=True, ccp_alpha=0.0, class_weight=None,\n",
              "                       criterion='gini', max_depth=None, max_features='auto',\n",
              "                       max_leaf_nodes=None, max_samples=None,\n",
              "                       min_impurity_decrease=0.0, min_impurity_split=None,\n",
              "                       min_samples_leaf=1, min_samples_split=2,\n",
              "                       min_weight_fraction_leaf=0.0, n_estimators=100,\n",
              "                       n_jobs=None, oob_score=False, random_state=None,\n",
              "                       verbose=0, warm_start=False)"
            ]
          },
          "metadata": {
            "tags": []
          },
          "execution_count": 65
        }
      ]
    },
    {
      "cell_type": "code",
      "metadata": {
        "id": "RkH-_7X7Q_4N",
        "colab_type": "code",
        "colab": {}
      },
      "source": [
        "y_predNaiveBayes = naiveBayes.predict(X_train)\n",
        "y_predSml = slm.predict(X_train)\n",
        "y_predRf = rf.predict(X_train)"
      ],
      "execution_count": 0,
      "outputs": []
    },
    {
      "cell_type": "code",
      "metadata": {
        "id": "xYlRiAPLQMgg",
        "colab_type": "code",
        "colab": {
          "base_uri": "https://localhost:8080/",
          "height": 196
        },
        "outputId": "7f2772e6-16dc-4699-b72f-3a6ccd865a94"
      },
      "source": [
        "print(\"Naive Bayes Accuracy:\", accuracy_score(y_train, y_predNaiveBayes))\n",
        "confusion_matrix(y_train, y_predNaiveBayes)"
      ],
      "execution_count": 67,
      "outputs": [
        {
          "output_type": "stream",
          "text": [
            "Naive Bayes Accuracy: 0.5559166666666666\n"
          ],
          "name": "stdout"
        },
        {
          "output_type": "execute_result",
          "data": {
            "text/plain": [
              "array([[5349,   11,   29,   14,   11,   11,  171,    6,  200,  105],\n",
              "       [   3, 6395,   16,   25,    2,    7,   76,    2,  156,   71],\n",
              "       [ 552,  173, 1736,  398,   21,   15, 1529,   16, 1385,   97],\n",
              "       [ 398,  329,   58, 2146,    9,   12,  325,   43, 2160,  678],\n",
              "       [ 164,   48,   49,   31,  928,   31,  571,   23, 1206, 2876],\n",
              "       [ 660,  149,   30,  117,   30,  256,  306,   16, 3272,  593],\n",
              "       [  59,  113,   31,    2,    5,   20, 5510,    0,  120,    8],\n",
              "       [  29,   49,    8,   52,   42,    5,   21, 1851,  204, 4007],\n",
              "       [  99,  784,   27,   47,   17,   25,  101,   10, 3584, 1151],\n",
              "       [  36,   47,   14,   10,   27,    2,    4,   80,  103, 5600]])"
            ]
          },
          "metadata": {
            "tags": []
          },
          "execution_count": 67
        }
      ]
    },
    {
      "cell_type": "code",
      "metadata": {
        "id": "uMim-Yv5QS8m",
        "colab_type": "code",
        "colab": {
          "base_uri": "https://localhost:8080/",
          "height": 196
        },
        "outputId": "2f7983c5-08e7-427b-e644-0a6f4354d59f"
      },
      "source": [
        "print(\"Simple linear model Accuracy:\", accuracy_score(y_train, y_predSml))\n",
        "confusion_matrix(y_train, y_predSml)"
      ],
      "execution_count": 68,
      "outputs": [
        {
          "output_type": "stream",
          "text": [
            "Simple linear model Accuracy: 0.8812\n"
          ],
          "name": "stdout"
        },
        {
          "output_type": "execute_result",
          "data": {
            "text/plain": [
              "array([[5785,    1,   37,   20,    5,    9,    2,    6,   19,   23],\n",
              "       [   0, 6566,   68,    7,    6,   15,    3,   12,   10,   66],\n",
              "       [  47,   16, 5587,   73,   47,   25,   15,   56,   40,   16],\n",
              "       [  16,   14,  358, 5498,   15,  100,   12,   45,   17,   83],\n",
              "       [  18,   12,   40,   14, 5331,   48,   11,   69,   38,  346],\n",
              "       [  61,   29,  173,  465,   56, 4396,   41,   34,   65,  109],\n",
              "       [ 109,   19,  434,   21,   56,  163, 5034,    8,   14,   10],\n",
              "       [  13,    6,   83,   28,   43,   14,    5, 5814,    6,  256],\n",
              "       [  50,  112,  569,  614,   18,  520,   11,   66, 3562,  323],\n",
              "       [  37,   14,   39,  105,  105,   51,    1,  260,   12, 5299]])"
            ]
          },
          "metadata": {
            "tags": []
          },
          "execution_count": 68
        }
      ]
    },
    {
      "cell_type": "code",
      "metadata": {
        "id": "gCAfnXEbQSok",
        "colab_type": "code",
        "colab": {
          "base_uri": "https://localhost:8080/",
          "height": 196
        },
        "outputId": "ec0c0a6d-bee9-4523-ce8f-43019e227e75"
      },
      "source": [
        "print(\"Random Forest Accuracy:\", accuracy_score(y_train, y_predRf))\n",
        "confusion_matrix(y_train, y_predRf)"
      ],
      "execution_count": 69,
      "outputs": [
        {
          "output_type": "stream",
          "text": [
            "Random Forest Accuracy: 1.0\n"
          ],
          "name": "stdout"
        },
        {
          "output_type": "execute_result",
          "data": {
            "text/plain": [
              "array([[5907,    0,    0,    0,    0,    0,    0,    0,    0,    0],\n",
              "       [   0, 6753,    0,    0,    0,    0,    0,    0,    0,    0],\n",
              "       [   0,    0, 5922,    0,    0,    0,    0,    0,    0,    0],\n",
              "       [   0,    0,    0, 6158,    0,    0,    0,    0,    0,    0],\n",
              "       [   0,    0,    0,    0, 5927,    0,    0,    0,    0,    0],\n",
              "       [   0,    0,    0,    0,    0, 5429,    0,    0,    0,    0],\n",
              "       [   0,    0,    0,    0,    0,    0, 5868,    0,    0,    0],\n",
              "       [   0,    0,    0,    0,    0,    0,    0, 6268,    0,    0],\n",
              "       [   0,    0,    0,    0,    0,    0,    0,    0, 5845,    0],\n",
              "       [   0,    0,    0,    0,    0,    0,    0,    0,    0, 5923]])"
            ]
          },
          "metadata": {
            "tags": []
          },
          "execution_count": 69
        }
      ]
    },
    {
      "cell_type": "markdown",
      "metadata": {
        "id": "yMnUlneg8ORn",
        "colab_type": "text"
      },
      "source": [
        "### E1.4: Evaluate and compare the models on the test set.\n",
        "* compute the test [accuracy](https://scikit-learn.org/stable/modules/generated/sklearn.metrics.accuracy_score.html#sklearn.metrics.accuracy_score) \n",
        "* compute the [F-Measure](https://scikit-learn.org/stable/modules/generated/sklearn.metrics.f1_score.html#sklearn.metrics.f1_score)\n",
        "* plot a [ROC curves](https://scikit-learn.org/stable/modules/generated/sklearn.metrics.roc_curve.html#sklearn.metrics.roc_curve) for the class \"5\" for all three models.\n",
        "                          "
      ]
    },
    {
      "cell_type": "code",
      "metadata": {
        "id": "iAOZfIvhQtzn",
        "colab_type": "code",
        "colab": {
          "base_uri": "https://localhost:8080/",
          "height": 66
        },
        "outputId": "b5004924-8626-4931-cfcd-a60bcbd98f0e"
      },
      "source": [
        "y_predNaiveBayesTest = naiveBayes.predict(X_test)\n",
        "y_predSmlTest = slm.predict(X_test)\n",
        "y_predRfTest = rf.predict(X_test)\n",
        "print(\"Naive Bayes Accuracy:\", accuracy_score(y_test, y_predNaiveBayesTest))\n",
        "print(\"Simple linear model Accuracy:\", accuracy_score(y_test, y_predSmlTest))\n",
        "print(\"Random Forest Accuracy:\", accuracy_score(y_test, y_predRfTest))"
      ],
      "execution_count": 70,
      "outputs": [
        {
          "output_type": "stream",
          "text": [
            "Naive Bayes Accuracy: 0.5607\n",
            "Simple linear model Accuracy: 0.8692\n",
            "Random Forest Accuracy: 0.9708\n"
          ],
          "name": "stdout"
        }
      ]
    },
    {
      "cell_type": "code",
      "metadata": {
        "id": "NMfYCpAhQuan",
        "colab_type": "code",
        "colab": {
          "base_uri": "https://localhost:8080/",
          "height": 115
        },
        "outputId": "f83b08a9-21e8-4a5c-9921-7da1d628f019"
      },
      "source": [
        "print(\"Naive Bayes F-Measure:\", f1_score(y_test, y_predNaiveBayesTest,average=None))\n",
        "print(\"Simple linear model F-Measure:\", f1_score(y_test, y_predSmlTest,average=None))\n",
        "print(\"Random Forest F-Measure:\", f1_score(y_test, y_predRfTest,average=None))"
      ],
      "execution_count": 72,
      "outputs": [
        {
          "output_type": "stream",
          "text": [
            "Naive Bayes F-Measure: [0.80484522 0.85934333 0.45048815 0.47455296 0.25       0.06309148\n",
            " 0.77333333 0.44267054 0.39247312 0.54545455]\n",
            "Simple linear model F-Measure: [0.94485115 0.95813134 0.83340327 0.83131948 0.8992601  0.81609195\n",
            " 0.9126522  0.9082172  0.71294559 0.83826248]\n",
            "Random Forest F-Measure: [0.98452322 0.98667851 0.96130536 0.95247828 0.9726104  0.97058824\n",
            " 0.98467622 0.97560976 0.95545315 0.96213592]\n"
          ],
          "name": "stdout"
        }
      ]
    },
    {
      "cell_type": "code",
      "metadata": {
        "id": "SJB9SOHcaXMS",
        "colab_type": "code",
        "colab": {}
      },
      "source": [
        ""
      ],
      "execution_count": 0,
      "outputs": []
    }
  ]
}